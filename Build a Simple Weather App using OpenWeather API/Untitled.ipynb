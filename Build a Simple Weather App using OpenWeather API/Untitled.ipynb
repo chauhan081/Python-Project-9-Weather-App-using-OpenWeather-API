{
 "cells": [
  {
   "cell_type": "code",
   "execution_count": 3,
   "id": "a7b569b6-44c0-4d10-bcc4-75fccc2da2fb",
   "metadata": {},
   "outputs": [
    {
     "name": "stdout",
     "output_type": "stream",
     "text": [
      "Weather in Moradabad:\n",
      "\n",
      "🌡 Temperature: 27.07°C\n",
      "☁ Condition: Clear sky\n",
      "💧 Humidity: 85%\n",
      "💨 Wind Speed: 3.2 m/s\n"
     ]
    }
   ],
   "source": [
    "import requests\n",
    "\n",
    "def get_weather(city):\n",
    "    api_key = \"your_api_key\"  # Replace with your OpenWeather API key\n",
    "    base_url = \"https://api.openweathermap.org/data/2.5/weather\"\n",
    "\n",
    "    params = {\n",
    "        \"q\": city,\n",
    "        \"appid\": api_key,\n",
    "        \"units\": \"metric\"  # For Celsius\n",
    "    }\n",
    "\n",
    "    response = requests.get(base_url, params=params)\n",
    "\n",
    "    if response.status_code == 200:\n",
    "        data = response.json()\n",
    "        print(f\"Weather in {city}:\\n\")\n",
    "        print(f\"🌡 Temperature: {data['main']['temp']}°C\")\n",
    "        print(f\"☁ Condition: {data['weather'][0]['description'].capitalize()}\")\n",
    "        print(f\"💧 Humidity: {data['main']['humidity']}%\")\n",
    "        print(f\"💨 Wind Speed: {data['wind']['speed']} m/s\")\n",
    "    else:\n",
    "        print(\"City not found or error fetching data.\")\n",
    "\n",
    "get_weather(\"B\")"
   ]
  },
  {
   "cell_type": "code",
   "execution_count": null,
   "id": "4f228468-57c7-47f0-b53d-031f73c72487",
   "metadata": {},
   "outputs": [],
   "source": []
  }
 ],
 "metadata": {
  "kernelspec": {
   "display_name": "Python 3 (ipykernel)",
   "language": "python",
   "name": "python3"
  },
  "language_info": {
   "codemirror_mode": {
    "name": "ipython",
    "version": 3
   },
   "file_extension": ".py",
   "mimetype": "text/x-python",
   "name": "python",
   "nbconvert_exporter": "python",
   "pygments_lexer": "ipython3",
   "version": "3.13.5"
  }
 },
 "nbformat": 4,
 "nbformat_minor": 5
}
